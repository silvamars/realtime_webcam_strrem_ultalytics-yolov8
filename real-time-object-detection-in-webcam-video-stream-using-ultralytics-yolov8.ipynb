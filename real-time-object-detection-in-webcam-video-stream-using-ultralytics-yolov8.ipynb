{
  "nbformat": 4,
  "nbformat_minor": 0,
  "metadata": {
    "colab": {
      "provenance": [],
      "gpuType": "T4",
      "authorship_tag": "ABX9TyPQSPYz7kmBIgRo/1LMg2Dp",
      "include_colab_link": true
    },
    "kernelspec": {
      "name": "python3",
      "display_name": "Python 3"
    },
    "language_info": {
      "name": "python"
    },
    "accelerator": "GPU"
  },
  "cells": [
    {
      "cell_type": "markdown",
      "metadata": {
        "id": "view-in-github",
        "colab_type": "text"
      },
      "source": [
        "<a href=\"https://colab.research.google.com/github/silvamars/realtime_webcam_strrem_ultalytics-yolov8/blob/main/real-time-object-detection-in-webcam-video-stream-using-ultralytics-yolov8.ipynb\" target=\"_parent\"><img src=\"https://colab.research.google.com/assets/colab-badge.svg\" alt=\"Open In Colab\"/></a>"
      ]
    },
    {
      "cell_type": "markdown",
      "source": [
        "**0 - Prerequisitos**"
      ],
      "metadata": {
        "id": "gb0lOKoR2NP2"
      }
    },
    {
      "cell_type": "markdown",
      "source": [
        "0-1. 0.1. Install and initialize libraries and constants"
      ],
      "metadata": {
        "id": "E0h_zYoj2mE9"
      }
    },
    {
      "cell_type": "code",
      "execution_count": 1,
      "metadata": {
        "colab": {
          "base_uri": "https://localhost:8080/"
        },
        "id": "z84yYmRw2B8X",
        "outputId": "31bd1574-490d-41db-fd67-5ca9b863a014"
      },
      "outputs": [
        {
          "output_type": "stream",
          "name": "stdout",
          "text": [
            "\u001b[?25l   \u001b[90m━━━━━━━━━━━━━━━━━━━━━━━━━━━━━━━━━━━━━━━━\u001b[0m \u001b[32m0.0/910.2 kB\u001b[0m \u001b[31m?\u001b[0m eta \u001b[36m-:--:--\u001b[0m\r\u001b[2K   \u001b[91m━━━━━━━━━━━━━━━━━━━━━━━━━━━━━━━━━━━━━━━\u001b[0m\u001b[91m╸\u001b[0m \u001b[32m901.1/910.2 kB\u001b[0m \u001b[31m100.4 MB/s\u001b[0m eta \u001b[36m0:00:01\u001b[0m\r\u001b[2K   \u001b[90m━━━━━━━━━━━━━━━━━━━━━━━━━━━━━━━━━━━━━━━━\u001b[0m \u001b[32m910.2/910.2 kB\u001b[0m \u001b[31m23.3 MB/s\u001b[0m eta \u001b[36m0:00:00\u001b[0m\n",
            "\u001b[?25h"
          ]
        }
      ],
      "source": [
        "! pip install --upgrade --quiet ultralytics"
      ]
    },
    {
      "cell_type": "code",
      "source": [
        "from base64 import b64decode, b64encode\n",
        "from google.colab.output import eval_js\n",
        "from IPython.display import display, Javascript\n",
        "from PIL import Image\n",
        "from ultralytics import YOLO\n",
        "from ultralytics.engine.results import Results\n",
        "import io\n",
        "import numpy as np\n",
        "\n",
        "MODEL_NAMES = ['yolov8n.pt', 'yolov8s.pt', 'yolov8m.pt', 'yolov8l.pt', 'yolov8x.pt']\n",
        "PRE_TRAINED_MODEL = YOLO(MODEL_NAMES[0])\n",
        "IMG_SHAPE = [640, 480]\n",
        "IMG_QUALITY = 0.8"
      ],
      "metadata": {
        "colab": {
          "base_uri": "https://localhost:8080/"
        },
        "id": "OJrvqpdQ2UXe",
        "outputId": "6b950ccf-7d20-4922-b705-c036ce9f7c5b"
      },
      "execution_count": 2,
      "outputs": [
        {
          "output_type": "stream",
          "name": "stdout",
          "text": [
            "Creating new Ultralytics Settings v0.0.6 file ✅ \n",
            "View Ultralytics Settings with 'yolo settings' or at '/root/.config/Ultralytics/settings.json'\n",
            "Update Settings with 'yolo settings key=value', i.e. 'yolo settings runs_dir=path/to/dir'. For help see https://docs.ultralytics.com/quickstart/#ultralytics-settings.\n",
            "Downloading https://github.com/ultralytics/assets/releases/download/v8.3.0/yolov8n.pt to 'yolov8n.pt'...\n"
          ]
        },
        {
          "output_type": "stream",
          "name": "stderr",
          "text": [
            "100%|██████████| 6.25M/6.25M [00:00<00:00, 324MB/s]\n"
          ]
        }
      ]
    },
    {
      "cell_type": "markdown",
      "source": [
        "0.2. Define JavaScript functions to capture webcam stream, and to be called by Python"
      ],
      "metadata": {
        "id": "_71qQECr2sSe"
      }
    },
    {
      "cell_type": "code",
      "source": [
        "def start_stream():\n",
        "    js = Javascript(f'''\n",
        "    const IMG_SHAPE = {IMG_SHAPE};\n",
        "    const IMG_QUALITY = {IMG_QUALITY};\n",
        "    ''' + '''\n",
        "    var video;\n",
        "    var div = null;\n",
        "    var stream;\n",
        "    var captureCanvas;\n",
        "    var imgElement;\n",
        "    var labelElement;\n",
        "\n",
        "    var pendingResolve = null;\n",
        "    var shutdown = false;\n",
        "\n",
        "    function removeDom() {\n",
        "        stream.getVideoTracks()[0].stop();\n",
        "        video.remove();\n",
        "        div.remove();\n",
        "        video = null;\n",
        "        div = null;\n",
        "        stream = null;\n",
        "        imgElement = null;\n",
        "        captureCanvas = null;\n",
        "        labelElement = null;\n",
        "    }\n",
        "\n",
        "    function onAnimationFrame() {\n",
        "        if (!shutdown) {\n",
        "            window.requestAnimationFrame(onAnimationFrame);\n",
        "        }\n",
        "        if (pendingResolve) {\n",
        "            var result = \"\";\n",
        "            if (!shutdown) {\n",
        "                captureCanvas.getContext('2d').drawImage(video, 0, 0, IMG_SHAPE[0], IMG_SHAPE[1]);\n",
        "                result = captureCanvas.toDataURL('image/jpeg', IMG_QUALITY)\n",
        "            }\n",
        "            var lp = pendingResolve;\n",
        "            pendingResolve = null;\n",
        "            lp(result);\n",
        "        }\n",
        "    }\n",
        "\n",
        "    async function createDom() {\n",
        "        if (div !== null) {\n",
        "            return stream;\n",
        "        }\n",
        "\n",
        "        div = document.createElement('div');\n",
        "        div.style.border = '2px solid black';\n",
        "        div.style.padding = '3px';\n",
        "        div.style.width = '100%';\n",
        "        div.style.maxWidth = '600px';\n",
        "        document.body.appendChild(div);\n",
        "\n",
        "        const modelOut = document.createElement('div');\n",
        "        modelOut.innerHTML = \"Status: \";\n",
        "        labelElement = document.createElement('span');\n",
        "        labelElement.innerText = 'No data';\n",
        "        labelElement.style.fontWeight = 'bold';\n",
        "        modelOut.appendChild(labelElement);\n",
        "        div.appendChild(modelOut);\n",
        "\n",
        "        video = document.createElement('video');\n",
        "        video.style.display = 'block';\n",
        "        video.width = div.clientWidth - 6;\n",
        "        video.setAttribute('playsinline', '');\n",
        "        video.onclick = () => { shutdown = true; };\n",
        "        stream = await navigator.mediaDevices.getUserMedia(\n",
        "            {video: { facingMode: \"environment\"}});\n",
        "        div.appendChild(video);\n",
        "\n",
        "        imgElement = document.createElement('img');\n",
        "        imgElement.style.position = 'absolute';\n",
        "        imgElement.style.zIndex = 1;\n",
        "        imgElement.onclick = () => { shutdown = true; };\n",
        "        div.appendChild(imgElement);\n",
        "\n",
        "        const instruction = document.createElement('div');\n",
        "        instruction.innerHTML =\n",
        "            '' +\n",
        "            'When finished, click here or on the video to stop this demo';\n",
        "        div.appendChild(instruction);\n",
        "        instruction.onclick = () => { shutdown = true; };\n",
        "\n",
        "        video.srcObject = stream;\n",
        "        await video.play();\n",
        "\n",
        "        captureCanvas = document.createElement('canvas');\n",
        "        captureCanvas.width = IMG_SHAPE[0]; //video.videoWidth;\n",
        "        captureCanvas.height = IMG_SHAPE[1]; //video.videoHeight;\n",
        "        window.requestAnimationFrame(onAnimationFrame);\n",
        "\n",
        "        return stream;\n",
        "    }\n",
        "    async function takePhoto(label, imgData) {\n",
        "        if (shutdown) {\n",
        "            removeDom();\n",
        "            shutdown = false;\n",
        "            return '';\n",
        "        }\n",
        "\n",
        "        var preCreate = Date.now();\n",
        "        stream = await createDom();\n",
        "\n",
        "        var preShow = Date.now();\n",
        "        if (label != \"\") {\n",
        "            labelElement.innerHTML = label;\n",
        "        }\n",
        "\n",
        "        if (imgData != \"\") {\n",
        "            var videoRect = video.getClientRects()[0];\n",
        "            imgElement.style.top = videoRect.top + \"px\";\n",
        "            imgElement.style.left = videoRect.left + \"px\";\n",
        "            imgElement.style.width = videoRect.width + \"px\";\n",
        "            imgElement.style.height = videoRect.height + \"px\";\n",
        "            imgElement.src = imgData;\n",
        "        }\n",
        "\n",
        "        var preCapture = Date.now();\n",
        "        var result = await new Promise((resolve, reject) => pendingResolve = resolve);\n",
        "        shutdown = false;\n",
        "\n",
        "        return {\n",
        "            'create': preShow - preCreate,\n",
        "            'show': preCapture - preShow,\n",
        "            'capture': Date.now() - preCapture,\n",
        "            'img': result,\n",
        "        };\n",
        "    }\n",
        "    ''')\n",
        "    display(js)\n",
        "\n",
        "def take_photo(label, img_data):\n",
        "    return eval_js(f'takePhoto(\"{label}\", \"{img_data}\")')"
      ],
      "metadata": {
        "id": "8MnEkCT62K-t"
      },
      "execution_count": 4,
      "outputs": []
    },
    {
      "cell_type": "markdown",
      "source": [
        "0.3. Define Python functions to"
      ],
      "metadata": {
        "id": "VOmoA3VX39qe"
      }
    },
    {
      "cell_type": "code",
      "source": [
        "def js_response_to_image(js_response) -> Image.Image:\n",
        "    _, b64_str = js_response['img'].split(',')\n",
        "    jpeg_bytes = b64decode(b64_str)\n",
        "    image = Image.open(io.BytesIO(jpeg_bytes))\n",
        "    return image\n",
        "\n",
        "def turn_non_black_pixels_visible(rgba_compatible_array: np.ndarray) -> np.ndarray:\n",
        "    rgba_compatible_array[:, :, 3] = (rgba_compatible_array.max(axis=2) > 0).astype(int) * 255\n",
        "    return rgba_compatible_array\n",
        "\n",
        "def black_transparent_rgba_canvas(w, h) -> np.ndarray:\n",
        "    return np.zeros([w, h, 4], dtype=np.uint8)\n",
        "\n",
        "def draw_annotations_on_transparent_bg(detection_result: Results) -> Image.Image:\n",
        "    black_rgba_canvas = black_transparent_rgba_canvas(*detection_result.orig_shape)\n",
        "    transparent_canvas_with_boxes_invisible = detection_result.plot(font='verdana', masks=False, img=black_rgba_canvas)\n",
        "    transparent_canvas_with_boxes_visible = turn_non_black_pixels_visible(transparent_canvas_with_boxes_invisible)\n",
        "    image = Image.fromarray(transparent_canvas_with_boxes_visible, 'RGBA')\n",
        "    return image"
      ],
      "metadata": {
        "id": "w1N2saD02wYF"
      },
      "execution_count": 5,
      "outputs": []
    },
    {
      "cell_type": "markdown",
      "source": [
        "1. Perform real-time object detection in webcam stream"
      ],
      "metadata": {
        "id": "LJTS2bmF4cbv"
      }
    },
    {
      "cell_type": "code",
      "source": [
        "start_stream()\n",
        "img_data = ''\n",
        "while True:\n",
        "    js_response = take_photo('Capturing...', img_data)\n",
        "    if not js_response:\n",
        "        break\n",
        "    captured_img = js_response_to_image(js_response)\n",
        "    for detection_result in PRE_TRAINED_MODEL(source=np.array(captured_img), verbose=False):\n",
        "        annotations_img = draw_annotations_on_transparent_bg(detection_result)\n",
        "        with io.BytesIO() as buffer:\n",
        "            annotations_img.save(buffer, format='png')\n",
        "            img_as_base64_str = str(b64encode(buffer.getvalue()), 'utf-8')\n",
        "            img_data = f'data:image/png;base64,{img_as_base64_str}'"
      ],
      "metadata": {
        "colab": {
          "base_uri": "https://localhost:8080/",
          "height": 17
        },
        "id": "k0ns_8SE4gQf",
        "outputId": "748ae5c2-4a27-414a-dd09-478cfcf16b0d"
      },
      "execution_count": 7,
      "outputs": [
        {
          "output_type": "display_data",
          "data": {
            "text/plain": [
              "<IPython.core.display.Javascript object>"
            ],
            "application/javascript": [
              "\n",
              "    const IMG_SHAPE = [640, 480];\n",
              "    const IMG_QUALITY = 0.8;\n",
              "    \n",
              "    var video;\n",
              "    var div = null;\n",
              "    var stream;\n",
              "    var captureCanvas;\n",
              "    var imgElement;\n",
              "    var labelElement;\n",
              "\n",
              "    var pendingResolve = null;\n",
              "    var shutdown = false;\n",
              "\n",
              "    function removeDom() {\n",
              "        stream.getVideoTracks()[0].stop();\n",
              "        video.remove();\n",
              "        div.remove();\n",
              "        video = null;\n",
              "        div = null;\n",
              "        stream = null;\n",
              "        imgElement = null;\n",
              "        captureCanvas = null;\n",
              "        labelElement = null;\n",
              "    }\n",
              "\n",
              "    function onAnimationFrame() {\n",
              "        if (!shutdown) {\n",
              "            window.requestAnimationFrame(onAnimationFrame);\n",
              "        }\n",
              "        if (pendingResolve) {\n",
              "            var result = \"\";\n",
              "            if (!shutdown) {\n",
              "                captureCanvas.getContext('2d').drawImage(video, 0, 0, IMG_SHAPE[0], IMG_SHAPE[1]);\n",
              "                result = captureCanvas.toDataURL('image/jpeg', IMG_QUALITY)\n",
              "            }\n",
              "            var lp = pendingResolve;\n",
              "            pendingResolve = null;\n",
              "            lp(result);\n",
              "        }\n",
              "    }\n",
              "\n",
              "    async function createDom() {\n",
              "        if (div !== null) {\n",
              "            return stream;\n",
              "        }\n",
              "\n",
              "        div = document.createElement('div');\n",
              "        div.style.border = '2px solid black';\n",
              "        div.style.padding = '3px';\n",
              "        div.style.width = '100%';\n",
              "        div.style.maxWidth = '600px';\n",
              "        document.body.appendChild(div);\n",
              "\n",
              "        const modelOut = document.createElement('div');\n",
              "        modelOut.innerHTML = \"Status: \";\n",
              "        labelElement = document.createElement('span');\n",
              "        labelElement.innerText = 'No data';\n",
              "        labelElement.style.fontWeight = 'bold';\n",
              "        modelOut.appendChild(labelElement);\n",
              "        div.appendChild(modelOut);\n",
              "\n",
              "        video = document.createElement('video');\n",
              "        video.style.display = 'block';\n",
              "        video.width = div.clientWidth - 6;\n",
              "        video.setAttribute('playsinline', '');\n",
              "        video.onclick = () => { shutdown = true; };\n",
              "        stream = await navigator.mediaDevices.getUserMedia(\n",
              "            {video: { facingMode: \"environment\"}});\n",
              "        div.appendChild(video);\n",
              "\n",
              "        imgElement = document.createElement('img');\n",
              "        imgElement.style.position = 'absolute';\n",
              "        imgElement.style.zIndex = 1;\n",
              "        imgElement.onclick = () => { shutdown = true; };\n",
              "        div.appendChild(imgElement);\n",
              "\n",
              "        const instruction = document.createElement('div');\n",
              "        instruction.innerHTML =\n",
              "            '' +\n",
              "            'When finished, click here or on the video to stop this demo';\n",
              "        div.appendChild(instruction);\n",
              "        instruction.onclick = () => { shutdown = true; };\n",
              "\n",
              "        video.srcObject = stream;\n",
              "        await video.play();\n",
              "\n",
              "        captureCanvas = document.createElement('canvas');\n",
              "        captureCanvas.width = IMG_SHAPE[0]; //video.videoWidth;\n",
              "        captureCanvas.height = IMG_SHAPE[1]; //video.videoHeight;\n",
              "        window.requestAnimationFrame(onAnimationFrame);\n",
              "\n",
              "        return stream;\n",
              "    }\n",
              "    async function takePhoto(label, imgData) {\n",
              "        if (shutdown) {\n",
              "            removeDom();\n",
              "            shutdown = false;\n",
              "            return '';\n",
              "        }\n",
              "\n",
              "        var preCreate = Date.now();\n",
              "        stream = await createDom();\n",
              "\n",
              "        var preShow = Date.now();\n",
              "        if (label != \"\") {\n",
              "            labelElement.innerHTML = label;\n",
              "        }\n",
              "\n",
              "        if (imgData != \"\") {\n",
              "            var videoRect = video.getClientRects()[0];\n",
              "            imgElement.style.top = videoRect.top + \"px\";\n",
              "            imgElement.style.left = videoRect.left + \"px\";\n",
              "            imgElement.style.width = videoRect.width + \"px\";\n",
              "            imgElement.style.height = videoRect.height + \"px\";\n",
              "            imgElement.src = imgData;\n",
              "        }\n",
              "\n",
              "        var preCapture = Date.now();\n",
              "        var result = await new Promise((resolve, reject) => pendingResolve = resolve);\n",
              "        shutdown = false;\n",
              "\n",
              "        return {\n",
              "            'create': preShow - preCreate,\n",
              "            'show': preCapture - preShow,\n",
              "            'capture': Date.now() - preCapture,\n",
              "            'img': result,\n",
              "        };\n",
              "    }\n",
              "    "
            ]
          },
          "metadata": {}
        }
      ]
    }
  ]
}